{
 "cells": [
  {
   "cell_type": "code",
   "execution_count": 5,
   "metadata": {},
   "outputs": [
    {
     "name": "stdout",
     "output_type": "stream",
     "text": [
      "enter the plain text:\n",
      "prince\n",
      "7\n",
      "the received cipher text is\n",
      "the retrived plaintext is:\n",
      "['p', 'r', 'i', 'n', 'c', 'e']\n"
     ]
    }
   ],
   "source": [
    "print(\"enter the plain text:\")\n",
    "p=list(input())\n",
    "print(\"enter key which should be an integer:\")\n",
    "key=int(input())\n",
    "def encryption():\n",
    "    s=[]\n",
    "    i=0\n",
    "    while(i<len(p)):\n",
    "        s.insert(i,int(int(ord(p[i])+key)%97))\n",
    "        i=i+1       \n",
    "    return s \n",
    "\n",
    "def decryption():\n",
    "    c=encryption()\n",
    "    print(\"the received cipher text is\")\n",
    "    i=0\n",
    "    s=\"\"\n",
    "    while(i<len(c)):\n",
    "        s=s+chr(c[i]+97) \n",
    "        i=i+1   \n",
    "    l=[]\n",
    "    i=0\n",
    "    while(i<len(c)):\n",
    "        l.insert(i,chr(c[i]+97-key))\n",
    "        i=i+1\n",
    "    print(\"the retrived plaintext is:\")\n",
    "    print(l)    \n",
    "    \n",
    "    \n",
    "def shift():\n",
    "    encryption()\n",
    "    decryption()\n",
    "    \n",
    "    \n",
    "shift()    "
   ]
  },
  {
   "cell_type": "code",
   "execution_count": null,
   "metadata": {},
   "outputs": [],
   "source": []
  }
 ],
 "metadata": {
  "kernelspec": {
   "display_name": "Python 3",
   "language": "python",
   "name": "python3"
  },
  "language_info": {
   "codemirror_mode": {
    "name": "ipython",
    "version": 3
   },
   "file_extension": ".py",
   "mimetype": "text/x-python",
   "name": "python",
   "nbconvert_exporter": "python",
   "pygments_lexer": "ipython3",
   "version": "3.6.5"
  }
 },
 "nbformat": 4,
 "nbformat_minor": 2
}
