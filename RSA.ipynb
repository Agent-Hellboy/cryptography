{
 "cells": [
  {
   "cell_type": "code",
   "execution_count": 3,
   "metadata": {},
   "outputs": [],
   "source": [
    "import math\n",
    "global n\n",
    "global g\n",
    "channel=[]\n",
    "def mod_exp(a,b,m):\n",
    "    res=1\n",
    "    while(b>0):\n",
    "        if(b&1):\n",
    "            res=res*a%m\n",
    "        a=a*a%m\n",
    "        b>>=1\n",
    "        \n",
    "    return res    \n",
    "    \n",
    "    \n",
    "def gcd(n,m):\n",
    "    if(m==0):\n",
    "        return n\n",
    "    else: \n",
    "        return gcd(m,n%m)\n",
    "    \n",
    "    \n",
    "\n",
    "def cal_phi(n):\n",
    "    \n",
    "    result=n\n",
    "    for i in range(2,math.floor(math.sqrt(n))):\n",
    "        if(n%i==0):\n",
    "            while(n%i==0):\n",
    "                n/=i\n",
    "            result-=int(result/i)        \n",
    "    if(n>1):\n",
    "        result-=int(result/n)\n",
    "        \n",
    "    return result\n",
    "\n",
    "def key_generation():\n",
    "    public_key=[]\n",
    "    private_key=[]\n",
    "    print(\"input two prime number\")\n",
    "    p=int(input())\n",
    "    q=int(input())\n",
    "    private_key.append(p)\n",
    "    private_key.append(q)\n",
    "    n=p*q\n",
    "    g=cal_phi(n)\n",
    "    channel.append(n)\n",
    "    public_key.append(n)\n",
    "    \n",
    "    e=2\n",
    "    while(e<g):\n",
    "        if(gcd(e,g)!=1):\n",
    "            e=e+1\n",
    "        else:\n",
    "            break\n",
    "    public_key.append(e)        \n",
    "    d=1\n",
    "    for i in range(1,g):\n",
    "        if(e*i%g==1):\n",
    "            \n",
    "            d=i\n",
    "    private_key.append(d)   \n",
    "    return  private_key,public_key,g,n  \n",
    "    \n"
   ]
  },
  {
   "cell_type": "code",
   "execution_count": 7,
   "metadata": {},
   "outputs": [],
   "source": [
    "global c\n",
    "x2=1\n",
    "x1=1\n",
    "channel=[]\n",
    "def encryption():\n",
    "    pri_s,pub_t,false,base=key_generation()\n",
    "    \n",
    "    channel.append(pri_s[2])\n",
    "    print(\"enter plaintext\")\n",
    "    p=int(input())\n",
    "    c=mod_exp(p,pub_t[1],base)\n",
    "    channel.append(c)\n",
    "    print(\"element on public channel:\")\n",
    "    print(channel)"
   ]
  },
  {
   "cell_type": "code",
   "execution_count": 8,
   "metadata": {},
   "outputs": [],
   "source": [
    "def decryption():\n",
    "    \n",
    "    retrived_d=mod_exp(int(channel[2]),channel[1],channel[0])\n",
    "    print(retrived_d)"
   ]
  },
  {
   "cell_type": "code",
   "execution_count": 9,
   "metadata": {},
   "outputs": [
    {
     "name": "stdout",
     "output_type": "stream",
     "text": [
      "input two prime number\n",
      "53\n",
      "59\n",
      "3016\n",
      "enter plaintext\n",
      "89\n",
      "element on public channel:\n",
      "[3127, 2011, 1394]\n",
      "89\n"
     ]
    }
   ],
   "source": [
    "encryption()\n",
    "decryption()"
   ]
  },
  {
   "cell_type": "code",
   "execution_count": null,
   "metadata": {},
   "outputs": [],
   "source": []
  }
 ],
 "metadata": {
  "kernelspec": {
   "display_name": "Python 3",
   "language": "python",
   "name": "python3"
  },
  "language_info": {
   "codemirror_mode": {
    "name": "ipython",
    "version": 3
   },
   "file_extension": ".py",
   "mimetype": "text/x-python",
   "name": "python",
   "nbconvert_exporter": "python",
   "pygments_lexer": "ipython3",
   "version": "3.6.5"
  }
 },
 "nbformat": 4,
 "nbformat_minor": 2
}
