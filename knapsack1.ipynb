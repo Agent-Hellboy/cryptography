{
 "cells": [
  {
   "cell_type": "code",
   "execution_count": 3,
   "metadata": {},
   "outputs": [
    {
     "name": "stdout",
     "output_type": "stream",
     "text": [
      "[575, 436, 1586, 1030, 1921, 569, 721, 1183, 1570]\n",
      "enter 9 bit binary number\n",
      "101100111\n",
      "their is a solution\n",
      "[1, 1, 1, 0, 0, 1, 1, 0, 1]\n"
     ]
    }
   ],
   "source": [
    "\n",
    "def subset_sum(s,a,n):\n",
    "    x=[]\n",
    "    for i in reversed(a):\n",
    "        if(s>=i):\n",
    "            s=s-i\n",
    "            x.append(1)\n",
    "        else:\n",
    "            x.append(0)       \n",
    "    if(s==0):\n",
    "        print(\"the corrospending plain text is:\")\n",
    "    else:\n",
    "        print(\"their is some problem in cipher text\") \n",
    "    return x                  \n",
    "\n",
    "def mod_inv(a,c):\n",
    "    a = a%c; \n",
    "    for x in range(1,c):\n",
    "        if ((a*x) % c == 1): \n",
    "            return x;  \n",
    "        \n",
    "        \n",
    "#def a1_generator():       \n",
    "\n",
    "\n",
    "#def choose_w():\n",
    "\n",
    "\n",
    "def setup():\n",
    "    channel=[]\n",
    "    a1=[2,5,9,21,45,103,215,450,946]\n",
    "    channel.append(a1)\n",
    "    m=2003\n",
    "    channel.append(m)\n",
    "    #\n",
    "    w=1289\n",
    "    channel.append(w)\n",
    "    return channel\n",
    "    \n",
    "def knapsack():\n",
    "    channel=setup()\n",
    "    a=[i*channel[2]%channel[1] for i in channel[0]] \n",
    "    print(a)\n",
    "    print(\"enter 9 bit binary number\")    \n",
    "    p=list(input())\n",
    "    s=0\n",
    "    i=0\n",
    "    while(i<9):\n",
    "        s=s+int(int(p[i])*a[i])\n",
    "        i=i+1\n",
    "    channel.append(s)  \n",
    "    dummy=mod_inv(channel[2],channel[1])\n",
    "    sbar=dummy*channel[3]%channel[1]\n",
    "    g=subset_sum(sbar,channel[0],len(channel[0]))\n",
    "    print(list(reversed(g)))\n",
    "    \n",
    "knapsack()    \n",
    " "
   ]
  },
  {
   "cell_type": "code",
   "execution_count": null,
   "metadata": {},
   "outputs": [],
   "source": []
  }
 ],
 "metadata": {
  "kernelspec": {
   "display_name": "Python 3",
   "language": "python",
   "name": "python3"
  },
  "language_info": {
   "codemirror_mode": {
    "name": "ipython",
    "version": 3
   },
   "file_extension": ".py",
   "mimetype": "text/x-python",
   "name": "python",
   "nbconvert_exporter": "python",
   "pygments_lexer": "ipython3",
   "version": "3.6.5"
  }
 },
 "nbformat": 4,
 "nbformat_minor": 2
}
