{
 "cells": [
  {
   "cell_type": "code",
   "execution_count": null,
   "metadata": {},
   "outputs": [],
   "source": [
    "import math as m\n",
    "key=[3,10,9,4,13,6,3,15]\n",
    "\n",
    "def get_bin(x, n=0):\n",
    "    return format(x, 'b').zfill(n)\n",
    "\n",
    "\n",
    "\n",
    "def key_generation():\n",
    "    k=[]\n",
    "    for i in key:\n",
    "        k.append(get_bin(i,4))\n",
    "    return k    \n",
    "\n",
    "\n",
    "\n",
    "def encryption():\n",
    "    y=key_generation()\n",
    "    cipher=[]\n",
    "    print(\"enter the plain text in binary :\")\n",
    "    s=str(input())\n",
    "    g=len(s)\n",
    "    #print(\"before:\",s,len(s))\n",
    "    t=g%4\n",
    "    t=4-t\n",
    "    while(t>0):\n",
    "        s=s+'0'\n",
    "        t=t-1 \n",
    "    Aflen=len(s)    \n",
    "    #print(\"after:\",s,len(s))    \n",
    "    j=0\n",
    "    z=0\n",
    "    t=0\n",
    "    while(z<len(s)):\n",
    "        g=''\n",
    "        for i in range(4):\n",
    "                g=g+s[j]\n",
    "                j=j+1\n",
    "        l=int(g,2)\n",
    "        #print(l)\n",
    "        cipher.insert(t,l^int(y[t],2))\n",
    "        t=t+1\n",
    "        z=z+4\n",
    "    return cipher,Aflen   \n",
    "\n",
    "\n",
    "def decryption():\n",
    "    t=key_generation()\n",
    "    s,k=encryption()\n",
    "    #print(s,k)\n",
    "    cip=''\n",
    "    d=0\n",
    "    while(d<len(s)):\n",
    "        cip=cip+str(get_bin(s[d],4))\n",
    "        d=d+1\n",
    "    print(\"the cipher text generated is:\")    \n",
    "    print(cip)\n",
    "    Rplain=[]\n",
    "    v=''\n",
    "    for i in range(k//4):\n",
    "        Rplain.insert(i,s[i]^int(t[i],2))\n",
    "        v=v+str(get_bin(Rplain[i],4)) \n",
    "        \n",
    "    print(\"the retrived plain text is:\")\n",
    "    print(v)    \n",
    "    \n",
    "def stream_cipher():\n",
    "    decryption()\n",
    "    \n",
    "     "
   ]
  },
  {
   "cell_type": "code",
   "execution_count": null,
   "metadata": {},
   "outputs": [],
   "source": [
    "stream_cipher()    "
   ]
  },
  {
   "cell_type": "code",
   "execution_count": null,
   "metadata": {},
   "outputs": [],
   "source": []
  },
  {
   "cell_type": "code",
   "execution_count": null,
   "metadata": {},
   "outputs": [],
   "source": []
  },
  {
   "cell_type": "code",
   "execution_count": null,
   "metadata": {},
   "outputs": [],
   "source": []
  }
 ],
 "metadata": {
  "kernelspec": {
   "display_name": "Python 3",
   "language": "python",
   "name": "python3"
  },
  "language_info": {
   "codemirror_mode": {
    "name": "ipython",
    "version": 3
   },
   "file_extension": ".py",
   "mimetype": "text/x-python",
   "name": "python",
   "nbconvert_exporter": "python",
   "pygments_lexer": "ipython3",
   "version": "3.6.5"
  }
 },
 "nbformat": 4,
 "nbformat_minor": 2
}
