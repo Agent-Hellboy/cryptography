{
 "cells": [
  {
   "cell_type": "code",
   "execution_count": 16,
   "metadata": {},
   "outputs": [],
   "source": [
    "def setup():\n",
    "    l=dict(zip(['a','b','c','d','e','f','g','h','i','j','k','l','m','n','o','p','q','r','s','t','u','v','w','x','y','z'],['x','n','y','a','h','p','o','g','z','q','w','b','t','s','f','l','r','c','v','m','u','e','k','j','d','i']))\n",
    "    r=dict(zip(['x','n','y','a','h','p','o','g','z','q','w','b','t','s','f','l','r','c','v','m','u','e','k','j','d','i'],['a','b','c','d','e','f','g','h','i','j','k','l','m','n','o','p','q','r','s','t','u','v','w','x','y','z']))"
   ]
  },
  {
   "cell_type": "code",
   "execution_count": 17,
   "metadata": {},
   "outputs": [],
   "source": [
    "\n",
    "def encryption():\n",
    "    s=[]\n",
    "    p=list(input())\n",
    "    i=0\n",
    "    while(i<len(p)):\n",
    "        g=l[p[i]]\n",
    "        s.append(g) \n",
    "        i=i+1\n",
    "    return s       "
   ]
  },
  {
   "cell_type": "code",
   "execution_count": 19,
   "metadata": {},
   "outputs": [
    {
     "name": "stdout",
     "output_type": "stream",
     "text": [
      "prince\n",
      "the cipher text obtained is:\n",
      "['l', 'c', 'z', 's', 'y', 'h']\n",
      "the retrived plain text is:\n",
      "['p', 'r', 'i', 'n', 'c', 'e']\n"
     ]
    }
   ],
   "source": [
    "\n",
    "def decryption():\n",
    "    pl=[]\n",
    "    e=encryption()\n",
    "    print(\"the cipher text obtained is:\")\n",
    "    print(e)\n",
    "    i=0\n",
    "    while(i<len(e)):\n",
    "        f=r[e[i]]\n",
    "        pl.append(f)\n",
    "        i=i+1\n",
    "    print(\"the retrived plain text is:\") \n",
    "    print(pl)\n",
    "\n",
    "setup()\n",
    "\n",
    "decryption()\n",
    "        "
   ]
  },
  {
   "cell_type": "code",
   "execution_count": 10,
   "metadata": {},
   "outputs": [],
   "source": []
  },
  {
   "cell_type": "code",
   "execution_count": null,
   "metadata": {},
   "outputs": [],
   "source": []
  },
  {
   "cell_type": "code",
   "execution_count": null,
   "metadata": {},
   "outputs": [],
   "source": []
  },
  {
   "cell_type": "code",
   "execution_count": null,
   "metadata": {},
   "outputs": [],
   "source": []
  }
 ],
 "metadata": {
  "kernelspec": {
   "display_name": "Python 3",
   "language": "python",
   "name": "python3"
  },
  "language_info": {
   "codemirror_mode": {
    "name": "ipython",
    "version": 3
   },
   "file_extension": ".py",
   "mimetype": "text/x-python",
   "name": "python",
   "nbconvert_exporter": "python",
   "pygments_lexer": "ipython3",
   "version": "3.6.5"
  }
 },
 "nbformat": 4,
 "nbformat_minor": 2
}
