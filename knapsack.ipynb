{
 "cells": [
  {
   "cell_type": "code",
   "execution_count": 1,
   "metadata": {},
   "outputs": [
    {
     "ename": "IndexError",
     "evalue": "list index out of range",
     "output_type": "error",
     "traceback": [
      "\u001b[1;31m---------------------------------------------------------------------------\u001b[0m",
      "\u001b[1;31mIndexError\u001b[0m                                Traceback (most recent call last)",
      "\u001b[1;32m<ipython-input-1-528296f13098>\u001b[0m in \u001b[0;36m<module>\u001b[1;34m()\u001b[0m\n\u001b[0;32m     60\u001b[0m \u001b[1;33m\u001b[0m\u001b[0m\n\u001b[0;32m     61\u001b[0m \u001b[1;33m\u001b[0m\u001b[0m\n\u001b[1;32m---> 62\u001b[1;33m \u001b[0mencryption\u001b[0m\u001b[1;33m(\u001b[0m\u001b[1;33m)\u001b[0m\u001b[1;33m\u001b[0m\u001b[0m\n\u001b[0m\u001b[0;32m     63\u001b[0m \u001b[0mdecryption\u001b[0m\u001b[1;33m(\u001b[0m\u001b[1;33m)\u001b[0m\u001b[1;33m\u001b[0m\u001b[0m\n",
      "\u001b[1;32m<ipython-input-1-528296f13098>\u001b[0m in \u001b[0;36mencryption\u001b[1;34m()\u001b[0m\n\u001b[0;32m     39\u001b[0m \u001b[1;32mdef\u001b[0m \u001b[0mencryption\u001b[0m\u001b[1;33m(\u001b[0m\u001b[1;33m)\u001b[0m\u001b[1;33m:\u001b[0m\u001b[1;33m\u001b[0m\u001b[0m\n\u001b[0;32m     40\u001b[0m     \u001b[1;31m#channel=setup()\u001b[0m\u001b[1;33m\u001b[0m\u001b[1;33m\u001b[0m\u001b[0m\n\u001b[1;32m---> 41\u001b[1;33m     \u001b[0ma\u001b[0m\u001b[1;33m=\u001b[0m\u001b[1;33m[\u001b[0m\u001b[0mi\u001b[0m\u001b[1;33m*\u001b[0m\u001b[0mchannel\u001b[0m\u001b[1;33m[\u001b[0m\u001b[1;36m2\u001b[0m\u001b[1;33m]\u001b[0m\u001b[1;33m%\u001b[0m\u001b[0mchannel\u001b[0m\u001b[1;33m[\u001b[0m\u001b[1;36m1\u001b[0m\u001b[1;33m]\u001b[0m \u001b[1;32mfor\u001b[0m \u001b[0mi\u001b[0m \u001b[1;32min\u001b[0m \u001b[0mchannel\u001b[0m\u001b[1;33m[\u001b[0m\u001b[1;36m0\u001b[0m\u001b[1;33m]\u001b[0m\u001b[1;33m]\u001b[0m\u001b[1;33m\u001b[0m\u001b[0m\n\u001b[0m\u001b[0;32m     42\u001b[0m     \u001b[0mprint\u001b[0m\u001b[1;33m(\u001b[0m\u001b[0ma\u001b[0m\u001b[1;33m)\u001b[0m\u001b[1;33m\u001b[0m\u001b[0m\n\u001b[0;32m     43\u001b[0m     \u001b[0mprint\u001b[0m\u001b[1;33m(\u001b[0m\u001b[1;34m\"enter 9 bit binary number\"\u001b[0m\u001b[1;33m)\u001b[0m\u001b[1;33m\u001b[0m\u001b[0m\n",
      "\u001b[1;31mIndexError\u001b[0m: list index out of range"
     ]
    }
   ],
   "source": [
    "\n",
    "def subset_sum(s,a,n):\n",
    "    x=[]\n",
    "    for i in reversed(a):\n",
    "        if(s>=i):\n",
    "            s=s-i\n",
    "            x.append(1)\n",
    "        else:\n",
    "            x.append(0)       \n",
    "    if(s==0):\n",
    "        print(\"their is a solution\")\n",
    "        print(x)\n",
    "    else:\n",
    "        print(\"their is no solution\") \n",
    "    return x                   \n",
    "\n",
    "def mod_inv(a,c):\n",
    "    a = a%c; \n",
    "    for x in range(1,c):\n",
    "        if ((a*x) % c == 1): \n",
    "            return x;  \n",
    "        \n",
    "        \n",
    "#def a1_generator():       \n",
    "\n",
    "\n",
    "#def choose_w():\n",
    "\n",
    "channel=[]\n",
    "def setup():\n",
    "    #channel=[]\n",
    "    a1=[2,5,9,21,45,103,215,450,946]\n",
    "    channel.append(a1)\n",
    "    m=2003\n",
    "    channel.append(m)\n",
    "    #\n",
    "    w=1289\n",
    "    channel.append(w)\n",
    "    \n",
    "def encryption():\n",
    "    #channel=setup()\n",
    "    a=[i*channel[2]%channel[1] for i in channel[0]] \n",
    "    print(a)\n",
    "    print(\"enter 9 bit binary number\")    \n",
    "    p=list(input())\n",
    "    s=0\n",
    "    i=0\n",
    "    while(i<9):\n",
    "        s=s+int(int(p[i])*a[i])\n",
    "        i=i+1\n",
    "        channel.append(s)  \n",
    "        \n",
    "        \n",
    "def decryption():\n",
    "    dummy=mod_inv(channel[2],channel[1])\n",
    "    print(dummy)\n",
    "    print(t)\n",
    "    sbar=dummy*channel[3]%channel[1]\n",
    "    print(sbar)\n",
    "    g=subset_sum(sbar,channel[0],len(channel[0]))  \n",
    "    \n",
    "    \n",
    "encryption()\n",
    "decryption()    "
   ]
  },
  {
   "cell_type": "code",
   "execution_count": null,
   "metadata": {},
   "outputs": [],
   "source": []
  },
  {
   "cell_type": "code",
   "execution_count": null,
   "metadata": {},
   "outputs": [],
   "source": []
  },
  {
   "cell_type": "code",
   "execution_count": null,
   "metadata": {},
   "outputs": [],
   "source": []
  },
  {
   "cell_type": "code",
   "execution_count": null,
   "metadata": {},
   "outputs": [],
   "source": []
  },
  {
   "cell_type": "code",
   "execution_count": null,
   "metadata": {},
   "outputs": [],
   "source": []
  },
  {
   "cell_type": "code",
   "execution_count": null,
   "metadata": {},
   "outputs": [],
   "source": []
  },
  {
   "cell_type": "code",
   "execution_count": null,
   "metadata": {},
   "outputs": [],
   "source": []
  }
 ],
 "metadata": {
  "kernelspec": {
   "display_name": "Python 3",
   "language": "python",
   "name": "python3"
  },
  "language_info": {
   "codemirror_mode": {
    "name": "ipython",
    "version": 3
   },
   "file_extension": ".py",
   "mimetype": "text/x-python",
   "name": "python",
   "nbconvert_exporter": "python",
   "pygments_lexer": "ipython3",
   "version": "3.6.5"
  }
 },
 "nbformat": 4,
 "nbformat_minor": 2
}
